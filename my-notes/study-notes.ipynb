{
 "cells": [
  {
   "cell_type": "markdown",
   "metadata": {},
   "source": [
    "# 1E1 入口\n",
    "## 质数计算流程\n",
    "![](images/1E1-3.png)\n",
    "## 质数计算流程优化\n",
    "**为啥用了 $\\sqrt{n}$ 就流程就优化了？**\n",
    "\n",
    "以数字 100 为例，100可拆分为\n",
    "- 2*50\n",
    "- 4*25\n",
    "- 5*20\n",
    "- 10*10\n",
    "- 20*5\n",
    "- 25*4\n",
    "- 20*2\n",
    "- 其中后3个与前3个拆分的数字是一样的，所以验证前三个后就不用验证后3个了；理论上程序少跑了近一半的流程；\n",
    "\n",
    "**为啥要 $\\sqrt{n}$  +1 ？**\n",
    "\n",
    "- $\\sqrt{9}$ =3\n",
    "- 那么`range(1,3)`的取值范围是不包含 3 的， 9 就会被错误判定为质数；\n"
   ]
  },
  {
   "cell_type": "code",
   "execution_count": 12,
   "metadata": {},
   "outputs": [
    {
     "name": "stdout",
     "output_type": "stream",
     "text": [
      "平\n"
     ]
    }
   ],
   "source": [
    "import random\n",
    "r = random.randrange(2,13)\n",
    "\n",
    "if r == 7:\n",
    "    print('平')\n",
    "elif r < 7:\n",
    "    print('小')\n",
    "elif r > 7:\n",
    "    print('大')"
   ]
  },
  {
   "cell_type": "code",
   "execution_count": 46,
   "metadata": {},
   "outputs": [
    {
     "name": "stdout",
     "output_type": "stream",
     "text": [
      "投飞了\n"
     ]
    }
   ],
   "source": [
    "import random\n",
    "r = random.randrange(0,13)\n",
    "\n",
    "if r < 2:\n",
    "    print('投飞了')\n",
    "elif r >= 2 and r < 7:\n",
    "    print('小')\n",
    "elif r == 7:\n",
    "    print('平')\n",
    "elif r > 7:\n",
    "    print('大')"
   ]
  },
  {
   "cell_type": "code",
   "execution_count": 51,
   "metadata": {
    "collapsed": true,
    "jupyter": {
     "outputs_hidden": true
    }
   },
   "outputs": [
    {
     "name": "stdout",
     "output_type": "stream",
     "text": [
      "value of a 0\n",
      "value of a 1\n",
      "value of a 2\n",
      "value of a 3\n",
      "value of a 4\n",
      "value of a 5\n",
      "value of a 6\n",
      "value of a 7\n",
      "value of a 8\n",
      "value of a 9\n"
     ]
    }
   ],
   "source": [
    "for n in range(10):\n",
    "    print(f'value of a {n}')"
   ]
  },
  {
   "cell_type": "code",
   "execution_count": 70,
   "metadata": {
    "collapsed": true,
    "jupyter": {
     "outputs_hidden": true
    }
   },
   "outputs": [
    {
     "name": "stdout",
     "output_type": "stream",
     "text": [
      "2\n",
      "3\n",
      "5\n",
      "7\n",
      "11\n",
      "13\n",
      "17\n",
      "19\n",
      "23\n",
      "29\n",
      "31\n",
      "37\n",
      "41\n",
      "43\n",
      "47\n",
      "53\n",
      "59\n",
      "61\n",
      "67\n",
      "71\n",
      "73\n",
      "79\n",
      "83\n",
      "89\n",
      "97\n"
     ]
    }
   ],
   "source": [
    "for n in range(2,100):\n",
    "    if n == 2:\n",
    "        print(n)\n",
    "        continue\n",
    "    for i in range(2,int(n**0.5)+1):\n",
    "        if n % i == 0:\n",
    "            break\n",
    "    else:\n",
    "        print(n)"
   ]
  },
  {
   "cell_type": "code",
   "execution_count": 71,
   "metadata": {
    "collapsed": true,
    "jupyter": {
     "outputs_hidden": true
    }
   },
   "outputs": [
    {
     "name": "stdout",
     "output_type": "stream",
     "text": [
      "2\n",
      "3\n",
      "5\n",
      "7\n",
      "11\n",
      "13\n",
      "17\n",
      "19\n",
      "23\n",
      "29\n",
      "31\n",
      "37\n",
      "41\n",
      "43\n",
      "47\n",
      "53\n",
      "59\n",
      "61\n",
      "67\n",
      "71\n",
      "73\n",
      "79\n",
      "83\n",
      "89\n",
      "97\n"
     ]
    }
   ],
   "source": [
    "for n in range(2,100):\n",
    "    if n == 2:\n",
    "        print(n)\n",
    "        continue\n",
    "    for i in range(2,int(n**0.5)+1):\n",
    "        if n % i == 0:\n",
    "            break\n",
    "    else:\n",
    "        print(n)"
   ]
  },
  {
   "cell_type": "markdown",
   "metadata": {},
   "source": [
    "32132131313\n",
    "4444444444\n",
    "5555555555\n",
    "66666666"
   ]
  },
  {
   "cell_type": "code",
   "execution_count": 75,
   "metadata": {
    "collapsed": true,
    "jupyter": {
     "outputs_hidden": true
    }
   },
   "outputs": [
    {
     "name": "stdout",
     "output_type": "stream",
     "text": [
      "0\n",
      "1\n",
      "1\n",
      "2\n",
      "3\n",
      "5\n",
      "8\n",
      "13\n",
      "21\n",
      "34\n",
      "55\n",
      "89\n",
      "144\n",
      "233\n",
      "377\n",
      "610\n",
      "987\n"
     ]
    }
   ],
   "source": [
    "n=1000\n",
    "a,b=0,1\n",
    "while a<n:\n",
    "    print(a)\n",
    "    a,b=b,a+b"
   ]
  },
  {
   "cell_type": "code",
   "execution_count": 6,
   "metadata": {},
   "outputs": [
    {
     "name": "stdout",
     "output_type": "stream",
     "text": [
      "83\n",
      "89\n",
      "97\n"
     ]
    }
   ],
   "source": [
    "def is_prime(n):\n",
    "    if n < 2:\n",
    "        return False\n",
    "    if n == 2:\n",
    "        return True\n",
    "    for m in range(2,int(n**0.5+1)):\n",
    "        if n % m == 0:\n",
    "            return False\n",
    "    else:\n",
    "        return True\n",
    "    \n",
    "for i in range(80,100):\n",
    "    if is_prime(i):\n",
    "        print(i)"
   ]
  }
 ],
 "metadata": {
  "kernelspec": {
   "display_name": "Python 3",
   "language": "python",
   "name": "python3"
  },
  "language_info": {
   "codemirror_mode": {
    "name": "ipython",
    "version": 3
   },
   "file_extension": ".py",
   "mimetype": "text/x-python",
   "name": "python",
   "nbconvert_exporter": "python",
   "pygments_lexer": "ipython3",
   "version": "3.7.3"
  }
 },
 "nbformat": 4,
 "nbformat_minor": 4
}
