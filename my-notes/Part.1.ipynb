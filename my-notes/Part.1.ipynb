{
 "cells": [
  {
   "cell_type": "markdown",
   "metadata": {},
   "source": [
    "*Part.1.E.1*\n",
    "- 数据：整数、布尔值；操作符；变量、赋值；表达式\n",
    "- 函数、子程序、参数、返回值、调用\n",
    "- 流程控制、分支、循环\n",
    "- 算法、优化\n",
    "- 程序：语句、注释、语句块\n",
    "- 输入、处理、输出\n",
    "- 解释器"
   ]
  }
 ],
 "metadata": {
  "kernelspec": {
   "display_name": "Python 3",
   "language": "python",
   "name": "python3"
  },
  "language_info": {
   "codemirror_mode": {
    "name": "ipython",
    "version": 3
   },
   "file_extension": ".py",
   "mimetype": "text/x-python",
   "name": "python",
   "nbconvert_exporter": "python",
   "pygments_lexer": "ipython3",
   "version": "3.7.3"
  }
 },
 "nbformat": 4,
 "nbformat_minor": 4
}
